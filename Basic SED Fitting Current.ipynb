{
 "cells": [
  {
   "cell_type": "markdown",
   "id": "a07e2800",
   "metadata": {},
   "source": [
    "# Basic SED Fitting"
   ]
  },
  {
   "cell_type": "markdown",
   "id": "96f47983",
   "metadata": {},
   "source": [
    "This is a simple code to fit a BB component to the data."
   ]
  },
  {
   "cell_type": "markdown",
   "id": "a4682416",
   "metadata": {},
   "source": [
    "## Libraries"
   ]
  },
  {
   "cell_type": "code",
   "execution_count": 1,
   "id": "71836779",
   "metadata": {},
   "outputs": [],
   "source": [
    "from os import path, getcwd\n",
    "import numpy as np\n",
    "import pandas as pd\n",
    "import matplotlib.pyplot as plt\n",
    "from scipy.optimize import curve_fit\n",
    "from scipy.constants import h,k,c\n",
    "# h = Planck's Constant (m^2 kg/s),\n",
    "# k = Boltzmann Constant (J/K),\n",
    "# c = Speed of light in vacuum (m/s)"
   ]
  },
  {
   "cell_type": "markdown",
   "id": "f68d154d",
   "metadata": {},
   "source": [
    "## Loading the Data"
   ]
  },
  {
   "cell_type": "code",
   "execution_count": 2,
   "id": "71ea5778",
   "metadata": {},
   "outputs": [
    {
     "data": {
      "text/html": [
       "<div>\n",
       "<style scoped>\n",
       "    .dataframe tbody tr th:only-of-type {\n",
       "        vertical-align: middle;\n",
       "    }\n",
       "\n",
       "    .dataframe tbody tr th {\n",
       "        vertical-align: top;\n",
       "    }\n",
       "\n",
       "    .dataframe thead th {\n",
       "        text-align: right;\n",
       "    }\n",
       "</style>\n",
       "<table border=\"1\" class=\"dataframe\">\n",
       "  <thead>\n",
       "    <tr style=\"text-align: right;\">\n",
       "      <th></th>\n",
       "      <th>Unnamed: 0</th>\n",
       "      <th>objid</th>\n",
       "      <th>crowded</th>\n",
       "      <th>badbkgmatch</th>\n",
       "      <th>ra</th>\n",
       "      <th>dec</th>\n",
       "      <th>l</th>\n",
       "      <th>b</th>\n",
       "      <th>nmatches</th>\n",
       "      <th>nreject</th>\n",
       "      <th>...</th>\n",
       "      <th>i1_app_mag</th>\n",
       "      <th>i1_ABS_MAG</th>\n",
       "      <th>i2_app_mag</th>\n",
       "      <th>i2_ABS_MAG</th>\n",
       "      <th>i3_app_mag</th>\n",
       "      <th>i3_ABS_MAG</th>\n",
       "      <th>i4_app_mag</th>\n",
       "      <th>i4_ABS_MAG</th>\n",
       "      <th>m1_app_mag</th>\n",
       "      <th>m1_ABS_MAG</th>\n",
       "    </tr>\n",
       "  </thead>\n",
       "  <tbody>\n",
       "    <tr>\n",
       "      <th>0</th>\n",
       "      <td>112</td>\n",
       "      <td>SSTSL2 J105452.14-615209.2</td>\n",
       "      <td>0</td>\n",
       "      <td>0</td>\n",
       "      <td>163.717252</td>\n",
       "      <td>-61.869238</td>\n",
       "      <td>289.649598</td>\n",
       "      <td>-2.041396</td>\n",
       "      <td>1</td>\n",
       "      <td>0</td>\n",
       "      <td>...</td>\n",
       "      <td>10.905480</td>\n",
       "      <td>5.543741</td>\n",
       "      <td>10.856613</td>\n",
       "      <td>5.494874</td>\n",
       "      <td>10.826000</td>\n",
       "      <td>5.464262</td>\n",
       "      <td>10.373341</td>\n",
       "      <td>5.011602</td>\n",
       "      <td>9.149049</td>\n",
       "      <td>3.787310</td>\n",
       "    </tr>\n",
       "    <tr>\n",
       "      <th>1</th>\n",
       "      <td>414</td>\n",
       "      <td>SSTSL2 J023104.40-734232.0</td>\n",
       "      <td>0</td>\n",
       "      <td>0</td>\n",
       "      <td>37.768344</td>\n",
       "      <td>-73.708894</td>\n",
       "      <td>293.839461</td>\n",
       "      <td>-41.614047</td>\n",
       "      <td>1</td>\n",
       "      <td>0</td>\n",
       "      <td>...</td>\n",
       "      <td>11.870919</td>\n",
       "      <td>5.754062</td>\n",
       "      <td>11.773721</td>\n",
       "      <td>5.656865</td>\n",
       "      <td>11.722690</td>\n",
       "      <td>5.605833</td>\n",
       "      <td>11.580324</td>\n",
       "      <td>5.463468</td>\n",
       "      <td>9.470191</td>\n",
       "      <td>3.353334</td>\n",
       "    </tr>\n",
       "    <tr>\n",
       "      <th>2</th>\n",
       "      <td>714</td>\n",
       "      <td>SSTSL2 J202430.14+422233.7</td>\n",
       "      <td>0</td>\n",
       "      <td>0</td>\n",
       "      <td>306.125615</td>\n",
       "      <td>42.376034</td>\n",
       "      <td>80.132465</td>\n",
       "      <td>2.729961</td>\n",
       "      <td>1</td>\n",
       "      <td>0</td>\n",
       "      <td>...</td>\n",
       "      <td>11.436771</td>\n",
       "      <td>5.223677</td>\n",
       "      <td>11.242501</td>\n",
       "      <td>5.029407</td>\n",
       "      <td>10.909107</td>\n",
       "      <td>4.696014</td>\n",
       "      <td>10.234137</td>\n",
       "      <td>4.021043</td>\n",
       "      <td>7.777674</td>\n",
       "      <td>1.564581</td>\n",
       "    </tr>\n",
       "    <tr>\n",
       "      <th>3</th>\n",
       "      <td>716</td>\n",
       "      <td>SSTSL2 J053548.22-013620.5</td>\n",
       "      <td>0</td>\n",
       "      <td>0</td>\n",
       "      <td>83.950939</td>\n",
       "      <td>-1.605701</td>\n",
       "      <td>205.534991</td>\n",
       "      <td>-17.522007</td>\n",
       "      <td>1</td>\n",
       "      <td>0</td>\n",
       "      <td>...</td>\n",
       "      <td>12.033424</td>\n",
       "      <td>6.837193</td>\n",
       "      <td>11.993180</td>\n",
       "      <td>6.796948</td>\n",
       "      <td>11.924433</td>\n",
       "      <td>6.728202</td>\n",
       "      <td>11.758999</td>\n",
       "      <td>6.562767</td>\n",
       "      <td>9.964545</td>\n",
       "      <td>4.768314</td>\n",
       "    </tr>\n",
       "    <tr>\n",
       "      <th>4</th>\n",
       "      <td>913</td>\n",
       "      <td>SSTSL2 J222146.65+583734.5</td>\n",
       "      <td>0</td>\n",
       "      <td>0</td>\n",
       "      <td>335.444398</td>\n",
       "      <td>58.626251</td>\n",
       "      <td>104.487065</td>\n",
       "      <td>1.220537</td>\n",
       "      <td>1</td>\n",
       "      <td>0</td>\n",
       "      <td>...</td>\n",
       "      <td>11.812945</td>\n",
       "      <td>4.988212</td>\n",
       "      <td>11.656484</td>\n",
       "      <td>4.831751</td>\n",
       "      <td>11.492759</td>\n",
       "      <td>4.668025</td>\n",
       "      <td>11.357971</td>\n",
       "      <td>4.533238</td>\n",
       "      <td>8.150057</td>\n",
       "      <td>1.325324</td>\n",
       "    </tr>\n",
       "  </tbody>\n",
       "</table>\n",
       "<p>5 rows × 228 columns</p>\n",
       "</div>"
      ],
      "text/plain": [
       "   Unnamed: 0                       objid  crowded  badbkgmatch          ra  \\\n",
       "0         112  SSTSL2 J105452.14-615209.2        0            0  163.717252   \n",
       "1         414  SSTSL2 J023104.40-734232.0        0            0   37.768344   \n",
       "2         714  SSTSL2 J202430.14+422233.7        0            0  306.125615   \n",
       "3         716  SSTSL2 J053548.22-013620.5        0            0   83.950939   \n",
       "4         913  SSTSL2 J222146.65+583734.5        0            0  335.444398   \n",
       "\n",
       "         dec           l          b  nmatches  nreject  ...  i1_app_mag  \\\n",
       "0 -61.869238  289.649598  -2.041396         1        0  ...   10.905480   \n",
       "1 -73.708894  293.839461 -41.614047         1        0  ...   11.870919   \n",
       "2  42.376034   80.132465   2.729961         1        0  ...   11.436771   \n",
       "3  -1.605701  205.534991 -17.522007         1        0  ...   12.033424   \n",
       "4  58.626251  104.487065   1.220537         1        0  ...   11.812945   \n",
       "\n",
       "   i1_ABS_MAG  i2_app_mag  i2_ABS_MAG  i3_app_mag  i3_ABS_MAG  i4_app_mag  \\\n",
       "0    5.543741   10.856613    5.494874   10.826000    5.464262   10.373341   \n",
       "1    5.754062   11.773721    5.656865   11.722690    5.605833   11.580324   \n",
       "2    5.223677   11.242501    5.029407   10.909107    4.696014   10.234137   \n",
       "3    6.837193   11.993180    6.796948   11.924433    6.728202   11.758999   \n",
       "4    4.988212   11.656484    4.831751   11.492759    4.668025   11.357971   \n",
       "\n",
       "   i4_ABS_MAG  m1_app_mag  m1_ABS_MAG  \n",
       "0    5.011602    9.149049    3.787310  \n",
       "1    5.463468    9.470191    3.353334  \n",
       "2    4.021043    7.777674    1.564581  \n",
       "3    6.562767    9.964545    4.768314  \n",
       "4    4.533238    8.150057    1.325324  \n",
       "\n",
       "[5 rows x 228 columns]"
      ]
     },
     "execution_count": 2,
     "metadata": {},
     "output_type": "execute_result"
    }
   ],
   "source": [
    "star_file = pd.read_csv(\"excess_candidates.csv\")\n",
    "star_file.head()"
   ]
  },
  {
   "cell_type": "markdown",
   "id": "4199d87f",
   "metadata": {},
   "source": [
    "## Printing the column names"
   ]
  },
  {
   "cell_type": "code",
   "execution_count": 3,
   "id": "83eb2df0",
   "metadata": {},
   "outputs": [
    {
     "data": {
      "text/plain": [
       "array(['Unnamed: 0', 'objid', 'crowded', 'badbkgmatch', 'ra', 'dec', 'l',\n",
       "       'b', 'nmatches', 'nreject', 'nbands', 'i1_fluxtype', 'i2_fluxtype',\n",
       "       'i3_fluxtype', 'i4_fluxtype', 'm1_fluxtype', 'i1_fluxflag',\n",
       "       'i2_fluxflag', 'i3_fluxflag', 'i4_fluxflag', 'm1_fluxflag',\n",
       "       'i1_softsatflag', 'i2_softsatflag', 'i3_softsatflag',\n",
       "       'i4_softsatflag', 'i1_f_ap2', 'i1_df_ap2', 'i2_f_ap2', 'i2_df_ap2',\n",
       "       'i3_f_ap2', 'i3_df_ap2', 'i4_f_ap2', 'i4_df_ap2', 'm1_f_psf',\n",
       "       'm1_df_psf', 'i1_extfrac', 'i2_extfrac', 'i3_extfrac',\n",
       "       'i4_extfrac', 'm1_extfrac', 'i1_brtfrac', 'i2_brtfrac',\n",
       "       'i3_brtfrac', 'i4_brtfrac', 'm1_brtfrac', 'i1_snr', 'i2_snr',\n",
       "       'i3_snr', 'i4_snr', 'm1_snr', 'i1_seflags', 'i2_seflags',\n",
       "       'i3_seflags', 'i4_seflags', 'm1_dflag', 'm1_sflag', 'i1_meannoise',\n",
       "       'i2_meannoise', 'i3_meannoise', 'i4_meannoise', 'm1_meannoise',\n",
       "       'smid', 'regid', 'irac_obstype', 'mips_obstype', 'i1_coverage',\n",
       "       'i2_coverage', 'i3_coverage', 'i4_coverage', 'm1_coverage',\n",
       "       'twomass_key', 'twomass_assoc', 'twomass_ra', 'twomass_dec', 'j',\n",
       "       'dj', 'h', 'dh', 'k', 'dk', 'DR3Name', 'RAdeg', 'DEdeg',\n",
       "       'errHalfMaj', 'errHalfMin', 'errPosAng', 'SolID', 'Source',\n",
       "       'RandomI', 'e_RAdeg', 'e_DEdeg', 'Plx', 'e_Plx', 'RPlx', 'PM',\n",
       "       'pmRA', 'e_pmRA', 'pmDE', 'e_pmDE', 'RADEcor', 'RAPlxcor',\n",
       "       'RApmRAcor', 'RApmDEcor', 'DEPlxcor', 'DEpmRAcor', 'DEpmDEcor',\n",
       "       'PlxpmRAcor', 'PlxpmDEcor', 'pmRApmDEcor', 'NAL', 'NAC', 'NgAL',\n",
       "       'NbAL', 'gofAL', 'chi2AL', 'epsi', 'sepsi', 'Solved', 'APF',\n",
       "       'nueff', 'pscol', 'e_pscol', 'RApscolCorr', 'DEpscolCorr',\n",
       "       'PlxpscolCorr', 'pmRApscolCorr', 'pmDEpscolCorr', 'MatchObsA',\n",
       "       'Nper', 'amax', 'MatchObs', 'IPDgofha', 'IPDgofhp', 'IPDfmp',\n",
       "       'IPDfow', 'RUWE', 'Dup', 'o_Gmag', 'FG', 'e_FG', 'RFG', 'Gmag',\n",
       "       'e_Gmag', 'o_BPmag', 'FBP', 'e_FBP', 'RFBP', 'BPmag', 'e_BPmag',\n",
       "       'o_RPmag', 'FRP', 'e_FRP', 'RFRP', 'RPmag', 'e_RPmag', 'E(BP/RP)',\n",
       "       'NBPcont', 'NBPblend', 'NRPcont', 'NRPblend', 'Mode', 'BP-RP',\n",
       "       'BP-G', 'G-RP', 'RV', 'e_RV', 'n_RV', 'o_RV', 'o_RVd', 'RVNper',\n",
       "       'RVS/N', 'RVgof', 'RVchi2', 'RVTdur', 'RVamp', 'RVtempTeff',\n",
       "       'RVtemplogg', 'RVtemp[Fe/H]', 'Vatmparam', 'vbroad', 'e_Vbroad',\n",
       "       'o_Vbroad', 'GRVSmag', 'e_GRVSmag', 'o_GRVSmag', 'RVSS/N',\n",
       "       'VarFlag', 'PQSO', 'PGal', 'PSS', 'Teff', 'b_Teff_x', 'B_Teff_xa',\n",
       "       'logg', 'b_logg_x', 'B_logg_xa', '[Fe/H]', 'b_[Fe/H]_x',\n",
       "       'B_[Fe/H]_xa', 'Dist', 'b_Dist_x', 'B_Dist_xa', 'A0', 'b_A0_x',\n",
       "       'B_A0_xa', 'AG', 'b_AG_x', 'B_AG_xa', 'E(BP-RP)', 'b_E(BP-RP)_x',\n",
       "       'B_E(BP-RP)_xa', 'Lib', 'RAJ2000', 'DEJ2000', 'e_RAJ2000',\n",
       "       'e_DEJ2000', 'RADEcorJ2000', 'angDist', 'i1_app_mag', 'i1_ABS_MAG',\n",
       "       'i2_app_mag', 'i2_ABS_MAG', 'i3_app_mag', 'i3_ABS_MAG',\n",
       "       'i4_app_mag', 'i4_ABS_MAG', 'm1_app_mag', 'm1_ABS_MAG'],\n",
       "      dtype=object)"
      ]
     },
     "execution_count": 3,
     "metadata": {},
     "output_type": "execute_result"
    }
   ],
   "source": [
    "star_file.columns.values"
   ]
  },
  {
   "cell_type": "markdown",
   "id": "ce37f823",
   "metadata": {},
   "source": [
    "## Getting the Information for the Directory"
   ]
  },
  {
   "cell_type": "markdown",
   "id": "21200f48",
   "metadata": {},
   "source": [
    "Getting the Information for the Directory"
   ]
  },
  {
   "cell_type": "code",
   "execution_count": 4,
   "id": "6475a09f",
   "metadata": {},
   "outputs": [],
   "source": [
    "# Get the current directory of this file\n",
    "file_path = getcwd()"
   ]
  },
  {
   "cell_type": "markdown",
   "id": "9f986924",
   "metadata": {},
   "source": [
    "## Normalizing Results to the J flux, the first flux"
   ]
  },
  {
   "cell_type": "code",
   "execution_count": 5,
   "id": "71c145fa",
   "metadata": {},
   "outputs": [],
   "source": [
    "# Since the J index is the first index, the index is 0\n",
    "J_index = 0"
   ]
  },
  {
   "cell_type": "markdown",
   "id": "db2d7484",
   "metadata": {},
   "source": [
    "## Writing a Function to get all the fluxes and errors"
   ]
  },
  {
   "cell_type": "code",
   "execution_count": 6,
   "id": "7a2ce0d9",
   "metadata": {},
   "outputs": [],
   "source": [
    "def obs_wavelengths_fluxes_flux_errors(data, row_number):\n",
    "    \n",
    "    J_flux_Jy       = 1.0e-6*data['j'][row_number]     # 1.235 microns\n",
    "    J_flux_error_Jy = 1.0e-6*data['dj'][row_number]\n",
    "    H_flux_Jy       = 1.0e-6*data['h'][row_number]     # 1.662 microns\n",
    "    H_flux_error_Jy = 1.0e-6*data['dh'][row_number]\n",
    "    K_flux_Jy       = 1.0e-6*data['k'][row_number]     # 2.159 microns\n",
    "    K_flux_error_Jy = 1.0e-6*data['dk'][row_number]\n",
    "\n",
    "    I1_flux_Jy       = 1.0e-6*data['i1_f_ap2'][row_number]     # 3.6 microns\n",
    "    I1_flux_error_Jy = 1.0e-6*data['i1_df_ap2'][row_number]\n",
    "    I2_flux_Jy       = 1.0e-6*data['i2_f_ap2'][row_number]     # 4.5 microns\n",
    "    I2_flux_error_Jy = 1.0e-6*data['i2_df_ap2'][row_number]\n",
    "    ###I3_flux_Jy       = 1.0e-6*data['i3_f_ap2'][row_number]     # 5.8 microns\n",
    "    ###I3_flux_error_Jy = 1.0e-6*data['i3_df_ap2'][row_number]\n",
    "    I4_flux_Jy       = 1.0e-6*data['i4_f_ap2'][row_number]     # 8.0 microns\n",
    "    I4_flux_error_Jy = 1.0e-6*data['i4_df_ap2'][row_number]\n",
    "\n",
    "    M1_flux_Jy       = 1.0e-6*data['m1_f_psf'][row_number]     # 24 microns\n",
    "    M1_flux_error_Jy = 1.0e-6*data['m1_df_psf'][row_number]\n",
    "\n",
    "\n",
    "    # Filters considering: J = 1.235 microns, H = 1.662 microns, K = 2.159 microns\n",
    "    # Filters considering: I1 = 3.6 microns, I2 = 4.5 microns, I4 = 7.9 microns, M1 = 24 microns\n",
    "\n",
    "    all_wavelengths = np.array([1.235, 1.662, 2.159, 3.6, 4.5, 7.9, 24.0])\n",
    "\n",
    "    all_fluxes = np.array([J_flux_Jy, H_flux_Jy, K_flux_Jy, I1_flux_Jy, I2_flux_Jy, I4_flux_Jy, M1_flux_Jy])\n",
    "\n",
    "    all_flux_errors = np.array([J_flux_error_Jy, H_flux_error_Jy, K_flux_error_Jy, I1_flux_error_Jy, \\\n",
    "                                I2_flux_error_Jy, I4_flux_error_Jy, M1_flux_error_Jy])\n",
    "    \n",
    "    return all_wavelengths, all_fluxes, all_flux_errors"
   ]
  },
  {
   "cell_type": "markdown",
   "id": "ff927d42",
   "metadata": {},
   "source": [
    "## Getting Temperature of the Star and Changing it to agree with Nextgen Grid"
   ]
  },
  {
   "cell_type": "code",
   "execution_count": 7,
   "id": "16bdea77",
   "metadata": {},
   "outputs": [],
   "source": [
    "def nextgen_model_temp(data, row_number):\n",
    "    \n",
    "    teff = star_file[\"Teff\"][row_number]\n",
    "\n",
    "    # The NextGen stellar model is available in 200 K increments (see NextGen files)\n",
    "    star_temp = int(round(float(teff)/200.0) * 200.0)\n",
    "\n",
    "    # Max/Min boundaries for stellar model temps\n",
    "    if star_temp < 2600:\n",
    "        star_temp = 2600\n",
    "\n",
    "    if star_temp > 10000:\n",
    "        star_temp = 10000\n",
    "        \n",
    "    return star_temp"
   ]
  },
  {
   "cell_type": "markdown",
   "id": "321b8361",
   "metadata": {},
   "source": [
    "## Loading in the Nextgen Model for the Particular Temperature and Converting Units to Janskys"
   ]
  },
  {
   "cell_type": "markdown",
   "id": "383df222",
   "metadata": {},
   "source": [
    "Rescalling Nextgen flux to the observed value for the J Band flux. Returning the wavelengths of the Nextgen model in microns and return the rescalled Nextgen models in Janskys."
   ]
  },
  {
   "cell_type": "markdown",
   "id": "c58ff167",
   "metadata": {},
   "source": [
    "Interpolating the Nextgen Model at the wavelength of each filter for fitting. Also, plotting the Nextgen model and the observed flux values"
   ]
  },
  {
   "cell_type": "code",
   "execution_count": 8,
   "id": "e4879ffc",
   "metadata": {},
   "outputs": [],
   "source": [
    "def scalling_nextgen_model_to_obs(data, star_temp):\n",
    "    \n",
    "    # Read in stellar models corresponding to star temperature (wavelength, flux)\n",
    "    wavelengths_nextgen_cm, fluxes_F_lambda_nextgen = np.loadtxt(\\\n",
    "    file_path + '/Data/nextgen/xp00_' + str(star_temp) + 'g40.txt', unpack = True)\n",
    "    \n",
    "    # F_nu = Frequency flux Density in Janskys\n",
    "    # c = Speed of light\n",
    "    # cgs = Centimetre-gram-second unit system\n",
    "    c_cgs = 2.99792458e10 # cm/s\n",
    "    # Convert stellar model F_lambda to F_nu and to Jy (Janskys)\n",
    "    fluxes_F_nu_nextgen = fluxes_F_lambda_nextgen * wavelengths_nextgen_cm ** 2/c_cgs/1.0e8*1.0e23\n",
    "    wavelengths_microns_nextgen = wavelengths_nextgen_cm * 1.0e-4 # cm -> um (microns)\n",
    "    \n",
    "    # Using interpolation to estimate the flux at the J filter wavelength.\n",
    "    normalized_F_nu_fluxes = np.interp(all_wavelengths[J_index], \n",
    "                                       wavelengths_microns_nextgen, \n",
    "                                       fluxes_F_nu_nextgen)\n",
    "\n",
    "    # Rescale Nextgen Stellar Model F_nu to observed flux value in the J-Band\n",
    "    fluxes_F_nu_nextgen =  (all_fluxes[J_index]/normalized_F_nu_fluxes) * fluxes_F_nu_nextgen\n",
    "    \n",
    "    return wavelengths_microns_nextgen, fluxes_F_nu_nextgen\n",
    "    \n",
    "    \n",
    "    "
   ]
  },
  {
   "cell_type": "markdown",
   "id": "c9525112",
   "metadata": {},
   "source": [
    "## Blackbody Spectrum Function"
   ]
  },
  {
   "cell_type": "markdown",
   "id": "ea1ed15d",
   "metadata": {},
   "source": [
    "The blackbody function for the temperature of disk. Takes in the wavelenths in microns and the temperature in Kelvin."
   ]
  },
  {
   "cell_type": "code",
   "execution_count": 9,
   "id": "45e7e11c",
   "metadata": {},
   "outputs": [],
   "source": [
    "# Uses Planck's Law to Calculate the Flux from a Blackbody given Temp and Waves\n",
    "def blackbody_lambda(wavelength, temperature):\n",
    "    # Blackbody as a function of wavelength (um) and temperature (K).\n",
    "    # Returns units of erg/s/cm^2/cm/Steradian\n",
    "\n",
    "    # Planck's Law\n",
    "\n",
    "    wavelength = 1e-6 * np.array(wavelength) # Convert um to meters\n",
    "\n",
    "    numerator = 2 * h * c**2\n",
    "    denominator = wavelength ** 5 * (np.exp(h * c/(wavelength * k * temperature)) - 1)\n",
    "\n",
    "    return(numerator/denominator * ((wavelength ** 2/c) * 1.0e19))\n",
    "    # 1 Jy = 10^-26 W/m^2/Hz\n",
    "    # 1 Jy = 10^-23 erg/(s*cm^2*Hz)"
   ]
  },
  {
   "cell_type": "markdown",
   "id": "3193c688",
   "metadata": {},
   "source": [
    "## Curve Fit Fitting Function: Nextgen Model + BB Component"
   ]
  },
  {
   "cell_type": "markdown",
   "id": "6b69f26e",
   "metadata": {},
   "source": [
    "Functing for curve fitting."
   ]
  },
  {
   "cell_type": "code",
   "execution_count": 10,
   "id": "da42a8b9",
   "metadata": {},
   "outputs": [],
   "source": [
    "def function_model_star_and_dust(all_wavelengths,temperature_initial_guess,\\\n",
    "norm_thermal_component,norm_star):\n",
    "    return norm_thermal_component * blackbody_lambda(all_wavelengths, temperature_initial_guess) + \\\n",
    "        norm_star * fluxes_for_fit_nextgen"
   ]
  },
  {
   "cell_type": "markdown",
   "id": "6e570018",
   "metadata": {},
   "source": [
    "## Running the Program for all the Stars"
   ]
  },
  {
   "cell_type": "code",
   "execution_count": 11,
   "id": "afa8f534",
   "metadata": {},
   "outputs": [
    {
     "data": {
      "image/png": "[encoded data removed]",
      "text/plain": [
       "<Figure size 640x480 with 1 Axes>"
      ]
     },
     "metadata": {},
     "output_type": "display_data"
    }
   ],
   "source": [
    "#for i in range(len(star_file)):\n",
    "for i in range(1):\n",
    "    \n",
    "    row_number = i\n",
    "    \n",
    "    # Getting the wavelengths, fluxes, and flux errors for each star.\n",
    "    all_wavelengths, all_fluxes, all_flux_errors = obs_wavelengths_fluxes_flux_errors(star_file, row_number)\n",
    "    \n",
    "    # Getting the closest star temperature to the Nextgen model\n",
    "    star_temp = nextgen_model_temp(star_file, row_number)\n",
    "    \n",
    "    # Rescalling the Nextgen model to flux in Janskys. Also getting the wavelengths in microns.\n",
    "    wavelengths_microns_nextgen, fluxes_F_nu_nextgen = scalling_nextgen_model_to_obs(star_file, star_temp)\n",
    "    \n",
    "    # Interpolate stellar model flux values for all wavelength values from the\n",
    "    # stellar model file data. This is the Nextgen flux at each wavelength we are considering.\n",
    "    fluxes_for_fit_nextgen = np.interp(all_wavelengths, wavelengths_microns_nextgen, fluxes_F_nu_nextgen)\n",
    "    \n",
    "    # Fitting parameters for the disk and the star\n",
    "    dust_temp_initial_guess = 600.0\n",
    "    normalization_factor_star = 1.0\n",
    "    normalization_factor_thermal_component = 1.0\n",
    "    fitting_bounds = ((100,-np.inf,-np.inf),(2000,np.inf,np.inf))\n",
    "\n",
    "    try:\n",
    "        # Execute curve fitting\n",
    "        popt,pcov = curve_fit(function_model_star_and_dust, \\\n",
    "                    all_wavelengths,all_fluxes, \\\n",
    "                    p0=(dust_temp_initial_guess, \\\n",
    "                    normalization_factor_thermal_component, normalization_factor_star), \\\n",
    "                    sigma = all_flux_errors, bounds = fitting_bounds)\n",
    "\n",
    "        # Optimized values for temperature, normalization_factor_thermal_component,\n",
    "        # and normalization_factor_star for the best fit\n",
    "        best_blackbody_temp, best_normalization_factor_thermal_component, best_normalization_star  = popt\n",
    "    \n",
    "    # If a fit is not found return, return NAN for the fitting parameters.\n",
    "    except ValueError:\n",
    "        best_blackbody_temp = np.NaN\n",
    "        best_normalization_factor_thermal_component = np.NaN\n",
    "        \n",
    "        \n",
    "    # best fit Stellar Model for plotting Stellar Model (y-values)\n",
    "    fluxes_F_nu_nextgen_after_fit = best_normalization_star * fluxes_F_nu_nextgen\n",
    "\n",
    "    # Apply the optimized parameters -> best fit thermal Model\n",
    "    dust_fluxes = best_normalization_factor_thermal_component * \\\n",
    "                  blackbody_lambda(wavelengths_microns_nextgen,best_blackbody_temp)\n",
    "\n",
    "    # Y-values for total flux line: NextGen + debris disk\n",
    "    total_star_dust_fluxes = dust_fluxes + fluxes_F_nu_nextgen_after_fit\n",
    "    \n",
    "    # Plotting the results\n",
    "    plt.loglog(wavelengths_microns_nextgen, fluxes_F_nu_nextgen_after_fit, color = \"gray\", label=\"T_star = %.1f K\"%(star_temp), zorder=2)\n",
    "    plt.scatter(all_wavelengths, all_fluxes, color=\"red\", s=50, zorder=3, label=\"Observed \" + r\"$f_{\\nu}$\")\n",
    "    plt.loglog(wavelengths_microns_nextgen,total_star_dust_fluxes,'-', color = 'lightgray',label='Best Fit Model', zorder=1)\n",
    "    plt.loglog(wavelengths_microns_nextgen,dust_fluxes,'-', color = 'blue', label=\"T_disk = %.1f K\"%(best_blackbody_temp), zorder=1)\n",
    "    plt.xlabel(r\"$\\lambda$\" + \" \" + r\"$(\\mu$\" + \"m)\", fontsize = 16)\n",
    "    plt.ylabel(r\"$f_{\\nu}$\" + \" (Jy)\", fontsize = 20)\n",
    "    plt.title(star_file[\"objid\"][row_number], fontsize = 20)\n",
    "    plt.xlim(0.2,30)\n",
    "    plt.ylim(1.0e-6,1.0e-1)\n",
    "    plt.legend()\n",
    "    #plt.savefig( star_file[\"objid\"][row_number] + \".png\", bbox_inches = \"tight\")\n",
    "    #plt.close()\n",
    "\n"
   ]
  },
  {
   "cell_type": "code",
   "execution_count": null,
   "id": "fba3a898",
   "metadata": {},
   "outputs": [],
   "source": []
  },
  {
   "cell_type": "code",
   "execution_count": null,
   "id": "5e26626a",
   "metadata": {},
   "outputs": [],
   "source": []
  },
  {
   "cell_type": "code",
   "execution_count": null,
   "id": "4f6c6fbd",
   "metadata": {},
   "outputs": [],
   "source": []
  },
  {
   "cell_type": "code",
   "execution_count": null,
   "id": "44d794aa",
   "metadata": {},
   "outputs": [],
   "source": []
  },
  {
   "cell_type": "code",
   "execution_count": null,
   "id": "b6a7a454",
   "metadata": {},
   "outputs": [],
   "source": []
  },
  {
   "cell_type": "code",
   "execution_count": null,
   "id": "ab484be2",
   "metadata": {},
   "outputs": [],
   "source": []
  },
  {
   "cell_type": "code",
   "execution_count": null,
   "id": "9c8faf74",
   "metadata": {},
   "outputs": [],
   "source": []
  },
  {
   "cell_type": "code",
   "execution_count": null,
   "id": "8cfb8677",
   "metadata": {},
   "outputs": [],
   "source": []
  },
  {
   "cell_type": "code",
   "execution_count": null,
   "id": "1fc31804",
   "metadata": {},
   "outputs": [],
   "source": []
  },
  {
   "cell_type": "code",
   "execution_count": null,
   "id": "94009545",
   "metadata": {},
   "outputs": [],
   "source": []
  },
  {
   "cell_type": "code",
   "execution_count": null,
   "id": "76de097b",
   "metadata": {},
   "outputs": [],
   "source": []
  },
  {
   "cell_type": "code",
   "execution_count": null,
   "id": "8c331e27",
   "metadata": {},
   "outputs": [],
   "source": []
  },
  {
   "cell_type": "code",
   "execution_count": null,
   "id": "49f65149",
   "metadata": {},
   "outputs": [],
   "source": []
  },
  {
   "cell_type": "code",
   "execution_count": null,
   "id": "a87ebeff",
   "metadata": {},
   "outputs": [],
   "source": []
  }
 ],
 "metadata": {
  "kernelspec": {
   "display_name": "Python 3 (ipykernel)",
   "language": "python",
   "name": "python3"
  },
  "language_info": {
   "codemirror_mode": {
    "name": "ipython",
    "version": 3
   },
   "file_extension": ".py",
   "mimetype": "text/x-python",
   "name": "python",
   "nbconvert_exporter": "python",
   "pygments_lexer": "ipython3",
   "version": "3.10.9"
  }
 },
 "nbformat": 4,
 "nbformat_minor": 5
}
